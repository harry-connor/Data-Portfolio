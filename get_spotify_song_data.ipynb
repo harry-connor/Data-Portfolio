{
 "cells": [
  {
   "cell_type": "markdown",
   "id": "194411a6-2dcf-422c-8ea9-1d5e52b17ded",
   "metadata": {
    "tags": []
   },
   "source": [
    "##### Thank you very much to Steven Morse for writing his article about Spotify for Python. This is a great resource for anyone who wants to get started. The code below is a simple copy of Steven's work and what he offers is a great resource to improve your understanding of the process. I would say ahead of time that I have taken a Pandas heavy approach to the problem which is differnt to Steven. That being said the API POSTS and GETS were Steven's work! I am sure Steven has his own references :) \n",
    "##### Continuing on, we all advocate for what we think is the best approach but really what I am saying is that I understand Pandas quite well and if can write the code in one line instead of 10 I will. :)\n",
    "##### Steven has a great pure Python approach which I think is really interesting \n",
    "##### Defintely check his article out!  \n",
    "##### Exploring the Spotify API in Python - Steven Morse\n",
    "##### https://stmorse.github.io/journal/spotify-api.html"
   ]
  },
  {
   "cell_type": "code",
   "execution_count": 2,
   "id": "1d16a043-4fd7-4687-98f0-7c9dc23064c3",
   "metadata": {},
   "outputs": [],
   "source": [
    "import requests\n",
    "from lookup import *\n",
    "import pandas as pd"
   ]
  },
  {
   "cell_type": "code",
   "execution_count": 6,
   "id": "bb3873cc-6fae-4166-9b5b-1fc9d73a8c90",
   "metadata": {},
   "outputs": [],
   "source": [
    "BASE_URL = 'https://api.spotify.com/v1/'"
   ]
  },
  {
   "cell_type": "code",
   "execution_count": 7,
   "id": "35e2306d-3b06-4163-b088-7d297afdeccb",
   "metadata": {},
   "outputs": [],
   "source": [
    "AUTH_URL = 'https://accounts.spotify.com/api/token'\n",
    "\n",
    "# POST\n",
    "auth_response = requests.post(AUTH_URL, {\n",
    "    'grant_type': 'client_credentials',\n",
    "    'client_id': CLIENT_ID,\n",
    "    'client_secret': CLIENT_SECRET,\n",
    "})\n",
    "\n",
    "# convert the response to JSON\n",
    "auth_response_data = auth_response.json()\n",
    "\n",
    "# save the access token\n",
    "access_token = auth_response_data['access_token']"
   ]
  },
  {
   "cell_type": "code",
   "execution_count": 8,
   "id": "9e554a17-fbbe-4d06-b43d-aeeae4099918",
   "metadata": {},
   "outputs": [],
   "source": [
    "headers = {'Authorization': 'Bearer {token}'.format(token=access_token)}"
   ]
  },
  {
   "cell_type": "markdown",
   "id": "0b80b003-971f-43f0-a268-ad6a76afb3a4",
   "metadata": {},
   "source": [
    "##### So here is where the fun begins :) I am a big John Mayer fan. \n",
    "\n",
    "Why? \n",
    "\n",
    "I'm not sure to be honest, he in many ways is the opposite of what I typically seek out. He can come across as inauthentic and clichéd. That being said he is, to this day, the reason I still play guitar... And his songs still surprise me. He isn't a great singer, his lyrics are cheesy, but his guitar playing is somewhat reknowned and his guitar playing is a major hook to many people.\n",
    "\n",
    "Much a like an observer during a magic show, I am here for John Mayer and spectical of the show. If I'm honest, I can forget about the rehersed timestamps and cues ... if there are any...\n",
    "\n",
    "The reason I am here is to see if the data can explain my puppy dog sickness for John Mayer and his music."
   ]
  },
  {
   "cell_type": "code",
   "execution_count": 9,
   "id": "6b419faf-5ddd-4944-9f84-5617f5d9ebc2",
   "metadata": {},
   "outputs": [],
   "source": [
    "# John Mayer Albums\n",
    "artist_id = '0hEurMDQu99nJRq8pTxO14'\n",
    "\n",
    "# pull all artists albums\n",
    "r = requests.get(BASE_URL + 'artists/' + artist_id + '/albums', \n",
    "                 headers=headers, \n",
    "                 params={'include_groups': 'album', 'limit': 50})\n",
    "d = r.json()"
   ]
  },
  {
   "cell_type": "code",
   "execution_count": 198,
   "id": "73746e0e-29ee-446b-8721-e13a8dc26d2b",
   "metadata": {},
   "outputs": [
    {
     "data": {
      "text/plain": [
       "dict_keys(['href', 'items', 'limit', 'next', 'offset', 'previous', 'total'])"
      ]
     },
     "execution_count": 198,
     "metadata": {},
     "output_type": "execute_result"
    }
   ],
   "source": [
    "d.keys()"
   ]
  },
  {
   "cell_type": "markdown",
   "id": "6ff6f772-20f2-40ed-910b-3af24faa9438",
   "metadata": {},
   "source": [
    "##### Generate album information"
   ]
  },
  {
   "cell_type": "code",
   "execution_count": 12,
   "id": "cef81491-2a37-47f6-8b0f-b8a9d1ffa33b",
   "metadata": {},
   "outputs": [],
   "source": [
    "albumInfo = pd.DataFrame.from_dict(d['items']).drop(['album_type','album_group','type'],axis=1)\n",
    "\n",
    "# Convert to datetime\n",
    "albumInfo['release_date'] = pd.to_datetime(albumInfo['release_date'])\n",
    "\n",
    "# Clean from list like format to value \n",
    "albumInfo['external_urls'] = albumInfo['external_urls'].apply(lambda x: x['spotify'])\n",
    "\n",
    "# Clean from dictionary format to value\n",
    "albumInfo['images'] = albumInfo['images'].apply(lambda x: x[0]['url'])\n",
    "\n",
    "albumInfo.to_csv('song_data_output/album_info.csv')"
   ]
  },
  {
   "cell_type": "markdown",
   "id": "339d874b-e5a3-4d99-a14b-820e52eda93d",
   "metadata": {},
   "source": [
    "##### Find songs for each album"
   ]
  },
  {
   "cell_type": "code",
   "execution_count": 14,
   "id": "ce1e2fff-8aa6-4739-b655-45fcb0be7cd7",
   "metadata": {},
   "outputs": [
    {
     "name": "stdout",
     "output_type": "stream",
     "text": [
      "Sob Rock\n",
      "The Search for Everything\n",
      "Paradise Valley\n",
      "Born and Raised\n",
      "Battle Studies\n",
      "Where the Light Is: John Mayer Live In Los Angeles\n",
      "Continuum\n",
      "As/Is - Live\n",
      "As/Is: Live In Cleveland/Cincinnati, OH - 8/03-8/04/04\n",
      "As/Is: Houston, TX - 7/24/04\n",
      "As/Is: Live In Philadelphia, PA/Hartford, CT - 8/14-8/15/04\n",
      "As/Is: Live In Houston, TX - 7/24/04\n",
      "As/Is: Live In Mountain View, CA - 7/16/04\n",
      "Heavier Things\n",
      "Any Given Thursday\n",
      "Room For Squares\n",
      "Inside Wants Out\n"
     ]
    }
   ],
   "source": [
    "songInfoCommbined = pd.DataFrame()\n",
    "for albumId,albumName in zip(albumInfo['id'],albumInfo['name']):\n",
    "    print(albumName)\n",
    "    \n",
    "    # pull all tracks from this album\n",
    "    r = requests.get(BASE_URL + 'albums/' + albumId + '/tracks', headers=headers)\n",
    "    tracks = r.json()['items']\n",
    "    songInfo = pd.DataFrame.from_dict(tracks)\n",
    "    \n",
    "    # Manually add album name\n",
    "    songInfo['album_name'] = str(albumName)\n",
    "    \n",
    "    songInfoCommbined = pd.concat([songInfoCommbined,songInfo],axis=0)\n",
    "\n",
    "songInfoCommbined['id'].reset_index(drop=True,inplace=True)\n",
    "songInfoCommbined.to_csv('song_data_output/song_info_combined.csv')"
   ]
  },
  {
   "cell_type": "markdown",
   "id": "51e05741-a53d-4297-8646-882a55a74422",
   "metadata": {},
   "source": [
    "##### Find audio features for each song"
   ]
  },
  {
   "cell_type": "code",
   "execution_count": 327,
   "id": "9c48cbce-4e11-40ec-8ba8-52b209fc9c39",
   "metadata": {},
   "outputs": [],
   "source": [
    "songAudioFeaturesCombined = pd.DataFrame()\n",
    "\n",
    "# John Mayer Songs Information\n",
    "for i in songInfoCommbined['id']:\n",
    "    f = requests.get(BASE_URL + 'audio-features/' + i,headers=headers)\n",
    "    f = f.json()\n",
    "    f = f.items()\n",
    "    \n",
    "    # Reshape vertical Series to horizontal dataframe\n",
    "    df = pd.DataFrame.from_dict(f).transpose()\n",
    "    \n",
    "    #set column names equal to values in row index position 0\n",
    "    df.columns = df.iloc[0]\n",
    "    \n",
    "    #remove first row from DataFrame\n",
    "    df = df[1:]\n",
    "    \n",
    "    #concat updated DataFrame\n",
    "    songAudioFeaturesCombined = pd.concat([songAudioFeaturesCombined,df],axis=0)\n",
    "\n",
    "songAudioFeaturesCombined.reset_index(drop=True,inplace=True)\n",
    "songAudioFeaturesCombined.to_csv('song_data_output/song_audio_features_combined.csv')"
   ]
  }
 ],
 "metadata": {
  "kernelspec": {
   "display_name": "Python 3 (ipykernel)",
   "language": "python",
   "name": "python3"
  },
  "language_info": {
   "codemirror_mode": {
    "name": "ipython",
    "version": 3
   },
   "file_extension": ".py",
   "mimetype": "text/x-python",
   "name": "python",
   "nbconvert_exporter": "python",
   "pygments_lexer": "ipython3",
   "version": "3.9.13"
  }
 },
 "nbformat": 4,
 "nbformat_minor": 5
}
